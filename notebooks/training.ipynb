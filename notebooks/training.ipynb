{
 "cells": [
  {
   "cell_type": "code",
   "execution_count": null,
   "id": "861e4ecd-906c-49ab-b6a3-aacaa426e3e9",
   "metadata": {},
   "outputs": [],
   "source": [
    "from datetime import datetime\n",
    "from os import getenv, putenv\n",
    "import os\n",
    "\n",
    "MLFLOW_TRACKING_URI = getenv('MLFLOW_TRACKING_URI', 'http://mlflow-server:80')\n",
    "MLFLOW_EXPERIMENT = getenv('MLFLOW_EXPERIMENT_NAME', 'test')\n",
    "\n",
    "os.environ['AWS_ACCESS_KEY_ID'] = 's3-access-key'\n",
    "os.environ['AWS_SECRET_ACCESS_KEY'] = 's3-secret-key'\n",
    "os.environ['MLFLOW_S3_ENDPOINT_URL'] = 'http://s3.openshift-storage.svc.cluster.local/'\n",
    "\n",
    "timestamp = datetime.now().strftime('%y%m%d%H%M%S')"
   ]
  },
  {
   "cell_type": "code",
   "execution_count": null,
   "id": "5fb64e5f-9927-46b9-adc0-e7bd806cdfb9",
   "metadata": {},
   "outputs": [],
   "source": [
    "import mlflow\n",
    "import pandas as pd\n",
    "from sklearn.metrics import brier_score_loss, roc_auc_score\n",
    "from sklearn.datasets import load_breast_cancer\n",
    "from sklearn.model_selection import train_test_split\n",
    "from sklearn.preprocessing import StandardScaler\n",
    "from sklearn.pipeline import Pipeline\n",
    "from sklearn.linear_model import LogisticRegression"
   ]
  },
  {
   "cell_type": "code",
   "execution_count": null,
   "id": "6e95ac43-e2eb-4138-a246-a34907285aed",
   "metadata": {},
   "outputs": [],
   "source": [
    "def get_labels():\n",
    "    labels = load_breast_cancer().target\n",
    "    return labels\n",
    "\n",
    "\n",
    "def get_training_samples():\n",
    "    training_set = load_breast_cancer()\n",
    "    training_samples = training_set.data\n",
    "    feature_names = training_set.feature_names\n",
    "    return training_samples, feature_names"
   ]
  },
  {
   "cell_type": "code",
   "execution_count": null,
   "id": "f7b1aa7a-5fca-4c0d-bdef-7396de17f507",
   "metadata": {},
   "outputs": [],
   "source": [
    "mlflow.set_tracking_uri(MLFLOW_TRACKING_URI)\n",
    "experiment_id = '1' #mlflow.get_experiment('1')\n",
    "\n",
    "client = mlflow.tracking.MlflowClient()\n",
    "try:\n",
    "    mlflow.create_experiment(name = MLFLOW_EXPERIMENT)\n",
    "except:\n",
    "    print('Experiment exists.')\n",
    "    experiment = client.get_experiment(experiment_id)\n",
    "\n",
    "run_id = f'vrp-{MLFLOW_EXPERIMENT}-{timestamp}'\n",
    "\n",
    "active_run = mlflow.start_run(run_name = run_id,\n",
    "                              experiment_id = experiment_id)\n",
    "\n",
    "print(active_run.info.experiment_id)\n",
    "print(mlflow.get_experiment(active_run.info.experiment_id).name)\n",
    "print(mlflow.get_experiment(active_run.info.experiment_id).artifact_location)\n",
    "print(active_run.info.lifecycle_stage)\n",
    "print(active_run.info.status)\n",
    "print(active_run.info.user_id)\n",
    "print(active_run.info.run_id)\n",
    "print(mlflow.tracking.get_tracking_uri())"
   ]
  },
  {
   "cell_type": "code",
   "execution_count": null,
   "id": "e3b3176d-6290-48ae-bdc3-fb1219528a37",
   "metadata": {},
   "outputs": [],
   "source": [
    "y = pd.Series(get_labels(),name=\"Target\")\n",
    "training_samples, feature_names = get_training_samples()\n",
    "X = pd.DataFrame(training_samples,columns=feature_names)\n",
    "\n",
    "X_train, X_test, y_train, y_test = train_test_split(\n",
    "    X, y, test_size=0.30, random_state=42\n",
    ")\n",
    "del (X,y)\n",
    "\n",
    "pipe = Pipeline([\n",
    "    ('scaler', StandardScaler()), \n",
    "    ('estimator', LogisticRegression(\n",
    "        penalty=\"l2\", C=10.0, random_state=0, solver=\"liblinear\"\n",
    "    ))\n",
    "])\n",
    "\n",
    "pipe.fit(X_train,y_train)"
   ]
  },
  {
   "cell_type": "code",
   "execution_count": null,
   "id": "68bed11e-9613-47aa-94b3-4a4064aeff11",
   "metadata": {},
   "outputs": [],
   "source": [
    "brier = brier_score_loss(y_test, pipe.predict_proba(X_test)[:, 1])\n",
    "roc = roc_auc_score(y_test, pipe.predict_proba(X_test)[:, 1])\n",
    "\n",
    "mlflow.log_param(\"C\", \"10\")\n",
    "mlflow.log_param(\"Penalty\", \"l2\")\n",
    "mlflow.log_metric(\"brier\", brier)\n",
    "mlflow.log_metric(\"roc\", roc)\n",
    "\n",
    "mlflow.sklearn.log_model(\n",
    "    pipe, \"my_model\",\n",
    "    registered_model_name=\"sk-learn-random-forest-reg-model\",\n",
    ")\n",
    "\n",
    "mlflow.end_run()"
   ]
  },
  {
   "cell_type": "code",
   "execution_count": null,
   "id": "df897093-8e3c-47dc-b968-8c66c984d731",
   "metadata": {},
   "outputs": [],
   "source": []
  }
 ],
 "metadata": {
  "kernelspec": {
   "display_name": "Python 3 (ipykernel)",
   "language": "python",
   "name": "python3"
  },
  "language_info": {
   "codemirror_mode": {
    "name": "ipython",
    "version": 3
   },
   "file_extension": ".py",
   "mimetype": "text/x-python",
   "name": "python",
   "nbconvert_exporter": "python",
   "pygments_lexer": "ipython3",
   "version": "3.8.12"
  }
 },
 "nbformat": 4,
 "nbformat_minor": 5
}
