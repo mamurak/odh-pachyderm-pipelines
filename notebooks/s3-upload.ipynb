{
 "cells": [
  {
   "cell_type": "markdown",
   "id": "cdd99882",
   "metadata": {
    "papermill": {
     "duration": 0.005862,
     "end_time": "2021-11-09T00:01:34.156450",
     "exception": false,
     "start_time": "2021-11-09T00:01:34.150588",
     "status": "completed"
    },
    "tags": []
   },
   "source": [
    "# Using Pandas to Get Familiar With Your Data\n",
    "\n",
    "The first step in any machine learning project is to familiarize yourself with the data.  You'll use the Pandas library for this.  Pandas is the primary tool data scientists use for exploring and manipulating data.  Most people abbreviate pandas in their code as `pd`."
   ]
  },
  {
   "cell_type": "code",
   "execution_count": null,
   "id": "77d6078a",
   "metadata": {
    "papermill": {
     "duration": 0.021734,
     "end_time": "2021-11-09T00:01:34.183267",
     "exception": false,
     "start_time": "2021-11-09T00:01:34.161533",
     "status": "completed"
    },
    "tags": []
   },
   "outputs": [],
   "source": [
    "import glob\n",
    "import os\n",
    "\n",
    "from boto3 import client"
   ]
  },
  {
   "cell_type": "code",
   "execution_count": null,
   "id": "1ea152cf",
   "metadata": {},
   "outputs": [],
   "source": [
    "s3_access_key = 'edit'\n",
    "s3_secret_key = 'edit'\n",
    "s3_endpoint_url = 'http://s3.openshift-storage.svc.cluster.local/'\n",
    "\n",
    "s3_client = client(\n",
    "    's3', aws_access_key_id=s3_access_key,\n",
    "    aws_secret_access_key=s3_secret_key,\n",
    "    endpoint_url=s3_endpoint_url,\n",
    ")"
   ]
  },
  {
   "cell_type": "code",
   "execution_count": null,
   "id": "2522c89b-fa21-44ce-8bee-6676e4989f88",
   "metadata": {},
   "outputs": [],
   "source": [
    "folder_names = ['ACCOUNTS', 'CREDITCARDS', 'DEMOGRAPHICS', 'LABELS', 'LOANS']"
   ]
  },
  {
   "cell_type": "code",
   "execution_count": null,
   "id": "08bdd7a6",
   "metadata": {
    "papermill": {
     "duration": 0.169399,
     "end_time": "2021-11-09T00:01:34.367046",
     "exception": false,
     "start_time": "2021-11-09T00:01:34.197647",
     "status": "completed"
    },
    "tags": []
   },
   "outputs": [],
   "source": [
    "# save filepath to variable for easier access\n",
    "data_path = '../data/'\n",
    "\n",
    "# upload files to S3 bucket\n",
    "for folder_name in folder_names:\n",
    "    bucket_name = folder_name.lower()\n",
    "\n",
    "    folder_path = f'{data_path}{folder_name}'\n",
    "    csv_files = glob.glob(os.path.join(folder_path, \"*.csv\"))\n",
    "\n",
    "    for csv_file in csv_files:\n",
    "        object_name = csv_file.split('/')[-1]\n",
    "        s3_client.upload_file(csv_file, bucket_name, object_name)"
   ]
  }
 ],
 "metadata": {
  "kernelspec": {
   "display_name": "Python 3",
   "language": "python",
   "name": "python3"
  },
  "language_info": {
   "codemirror_mode": {
    "name": "ipython",
    "version": 3
   },
   "file_extension": ".py",
   "mimetype": "text/x-python",
   "name": "python",
   "nbconvert_exporter": "python",
   "pygments_lexer": "ipython3",
   "version": "3.8.6"
  },
  "papermill": {
   "default_parameters": {},
   "duration": 10.25765,
   "end_time": "2021-11-09T00:01:35.007995",
   "environment_variables": {},
   "exception": null,
   "input_path": "__notebook__.ipynb",
   "output_path": "__notebook__.ipynb",
   "parameters": {},
   "start_time": "2021-11-09T00:01:24.750345",
   "version": "2.3.3"
  }
 },
 "nbformat": 4,
 "nbformat_minor": 5
}
